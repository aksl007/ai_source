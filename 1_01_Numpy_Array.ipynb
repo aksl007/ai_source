{
  "nbformat": 4,
  "nbformat_minor": 0,
  "metadata": {
    "colab": {
      "provenance": [],
      "include_colab_link": true
    },
    "kernelspec": {
      "name": "python3",
      "display_name": "Python 3"
    },
    "language_info": {
      "name": "python"
    }
  },
  "cells": [
    {
      "cell_type": "markdown",
      "metadata": {
        "id": "view-in-github",
        "colab_type": "text"
      },
      "source": [
        "<a href=\"https://colab.research.google.com/github/aksl007/ai_source/blob/main/1_01_Numpy_Array.ipynb\" target=\"_parent\"><img src=\"https://colab.research.google.com/assets/colab-badge.svg\" alt=\"Open In Colab\"/></a>"
      ]
    },
    {
      "cell_type": "markdown",
      "source": [
        "n차원 넘파이 배열"
      ],
      "metadata": {
        "id": "CWwY9qvKgOhr"
      }
    },
    {
      "cell_type": "code",
      "execution_count": null,
      "metadata": {
        "colab": {
          "base_uri": "https://localhost:8080/"
        },
        "id": "emVye3B_avJY",
        "outputId": "ee484af3-ba53-4938-979c-be5458b9d2d3"
      },
      "outputs": [
        {
          "output_type": "stream",
          "name": "stdout",
          "text": [
            "[1 2 3 4]\n",
            "1D 배열의 차원 (Rank): 1\n",
            "[[1 2 3]\n",
            " [4 5 6]]\n",
            "2D 배열의 차원 (Rank): 2\n",
            "[[[ 1  2  3]\n",
            "  [ 4  5  6]]\n",
            "\n",
            " [[ 7  8  9]\n",
            "  [10 11 12]]]\n",
            "3D 배열의 차원 (Rank): 3\n"
          ]
        }
      ],
      "source": [
        "import numpy as np\n",
        "\n",
        "# 1D 배열 (Rank 1)\n",
        "array_1d = np.array([1, 2, 3, 4])\n",
        "print(array_1d)\n",
        "print(\"1D 배열의 차원 (Rank):\", array_1d.ndim) # 출력: 1\n",
        "\n",
        "# 2D 배열 (Rank 2)\n",
        "array_2d = np.array([[1, 2, 3], [4, 5, 6]])\n",
        "print(array_2d)\n",
        "print(\"2D 배열의 차원 (Rank):\", array_2d.ndim) # 출력: 2\n",
        "\n",
        "# 3D 배열 (Rank 3)\n",
        "array_3d = np.array([[[1, 2, 3], [4, 5, 6]], [[7, 8, 9], [10, 11, 12]]])\n",
        "print(array_3d)\n",
        "print(\"3D 배열의 차원 (Rank):\", array_3d.ndim) # 출력: 3\n"
      ]
    },
    {
      "cell_type": "markdown",
      "source": [
        "arrary - 요소별 곱셈"
      ],
      "metadata": {
        "id": "NSHsGISihXDK"
      }
    },
    {
      "cell_type": "code",
      "source": [
        "# array_2d = np.array([[1, 2, 3], [4, 5, 6]])\n",
        "# print(array_2d)\n",
        "\n",
        "\n",
        "array_1 = np.array([[1, 2], [3, 4]])\n",
        "array_2 = np.array([[5, 6], [7, 8]])\n",
        "result = array_1 * array_2\n",
        "print(result)\n"
      ],
      "metadata": {
        "colab": {
          "base_uri": "https://localhost:8080/"
        },
        "id": "WJ2bUxxqg-RQ",
        "outputId": "0d10e3ed-4155-49a6-8ad8-031390299f64"
      },
      "execution_count": null,
      "outputs": [
        {
          "output_type": "stream",
          "name": "stdout",
          "text": [
            "[[ 5 12]\n",
            " [21 32]]\n"
          ]
        }
      ]
    },
    {
      "cell_type": "markdown",
      "source": [
        "matrix - 행렬곱셈"
      ],
      "metadata": {
        "id": "9W3Bswp1gMih"
      }
    },
    {
      "cell_type": "code",
      "source": [
        "# import numpy as np\n",
        "\n",
        "# matrix = np.matrix([[1, 2, 3], [4, 5, 6]])\n",
        "# print(matrix)\n",
        "\n",
        "matrix_1 = np.matrix([[1, 2], [3, 4]])\n",
        "matrix_2 = np.matrix([[5, 6], [7, 8]])\n",
        "result = matrix_1 * matrix_2\n",
        "print(result)\n",
        "\n"
      ],
      "metadata": {
        "colab": {
          "base_uri": "https://localhost:8080/"
        },
        "id": "BI8xdv6Fa0Ir",
        "outputId": "4df2dc39-30a7-44bf-e936-4595e0f3e8e6"
      },
      "execution_count": null,
      "outputs": [
        {
          "output_type": "stream",
          "name": "stdout",
          "text": [
            "[[19 22]\n",
            " [43 50]]\n"
          ]
        }
      ]
    },
    {
      "cell_type": "markdown",
      "source": [
        "arrange 함수"
      ],
      "metadata": {
        "id": "GU6MNheQgIYJ"
      }
    },
    {
      "cell_type": "code",
      "source": [
        "import numpy as np\n",
        "\n",
        "# 0부터 10까지 1씩 증가하는 1차원 배열 생성\n",
        "array1 = np.arange(0, 10, 1)\n",
        "print(\"NumPy arange example (0 to 10):\", array1)\n",
        "\n",
        "# 0부터 10까지 2씩 증가\n",
        "array2 = np.arange(0, 10, 2)\n",
        "print(\"NumPy arange example (0 to 10 with step 2):\", array2)\n",
        "\n",
        "# 0부터 1까지 0.2씩 증가하는 실수 배열 생성\n",
        "array3 = np.arange(0, 1, 0.2)\n",
        "print(\"NumPy arange example (0 to 1 with step 0.2):\", array3)"
      ],
      "metadata": {
        "id": "fKKY3g0la0E0",
        "colab": {
          "base_uri": "https://localhost:8080/"
        },
        "outputId": "9f09fa6a-9445-4888-ecb7-146cb4072472"
      },
      "execution_count": null,
      "outputs": [
        {
          "output_type": "stream",
          "name": "stdout",
          "text": [
            "NumPy arange example (0 to 10): [0 1 2 3 4 5 6 7 8 9]\n",
            "NumPy arange example (0 to 10 with step 2): [0 2 4 6 8]\n",
            "NumPy arange example (0 to 1 with step 0.2): [0.  0.2 0.4 0.6 0.8]\n"
          ]
        }
      ]
    },
    {
      "cell_type": "markdown",
      "source": [
        "Python range 함수"
      ],
      "metadata": {
        "id": "gAu-UrEqgCEb"
      }
    },
    {
      "cell_type": "code",
      "source": [
        "# 0부터 10까지 1씩 증가하는 정수 시퀀스 생성\n",
        "range1 = range(0, 10, 1)\n",
        "print(\"Python range example (0 to 10):\", list(range1))\n",
        "\n",
        "# 0부터 10까지 2씩 증가하는 정수 시퀀스 생성\n",
        "range2 = range(0, 10, 2)\n",
        "print(\"Python range example (0 to 10 with step 2):\", list(range2))\n"
      ],
      "metadata": {
        "id": "M9aKbzIia0Bh",
        "colab": {
          "base_uri": "https://localhost:8080/"
        },
        "outputId": "1366ab30-7424-40f4-b90b-dfeeafbc273d"
      },
      "execution_count": null,
      "outputs": [
        {
          "output_type": "stream",
          "name": "stdout",
          "text": [
            "Python range example (0 to 10): [0, 1, 2, 3, 4, 5, 6, 7, 8, 9]\n",
            "Python range example (0 to 10 with step 2): [0, 2, 4, 6, 8]\n"
          ]
        }
      ]
    },
    {
      "cell_type": "markdown",
      "source": [
        "2D NumPy 배열 생성"
      ],
      "metadata": {
        "id": "8HyI4WIYf-4Z"
      }
    },
    {
      "cell_type": "code",
      "source": [
        "import numpy as np\n",
        "\n",
        "# 2D NumPy 배열 생성\n",
        "array_2d = np.array([[1, 2, 3], [4, 5, 6], [7, 8, 9]])\n",
        "print(\"2D NumPy Array:\")\n",
        "print(array_2d)\n",
        "\n",
        "# 배열의 모양(행과 열의 수) 확인\n",
        "shape = array_2d.shape\n",
        "print(\"\\nArray Shape:\", shape)\n",
        "\n",
        "# 행의 수와 열의 수를 각각 출력\n",
        "rows = shape[0]\n",
        "columns = shape[1]\n",
        "print(\"Number of Rows:\", rows)\n",
        "print(\"Number of Columns:\", columns)\n"
      ],
      "metadata": {
        "id": "mGhG4wwKaz9z",
        "colab": {
          "base_uri": "https://localhost:8080/"
        },
        "outputId": "2a876969-860d-4b9f-ac8a-06990f22b81b"
      },
      "execution_count": null,
      "outputs": [
        {
          "output_type": "stream",
          "name": "stdout",
          "text": [
            "2D NumPy Array:\n",
            "[[1 2 3]\n",
            " [4 5 6]\n",
            " [7 8 9]]\n",
            "\n",
            "Array Shape: (3, 3)\n",
            "Number of Rows: 3\n",
            "Number of Columns: 3\n"
          ]
        }
      ]
    },
    {
      "cell_type": "markdown",
      "source": [
        "flatten"
      ],
      "metadata": {
        "id": "oeRybqG_f7GE"
      }
    },
    {
      "cell_type": "code",
      "source": [
        "import numpy as np\n",
        "\n",
        "# 2D 배열 생성\n",
        "array_2d = np.array([[1, 2, 3], [4, 5, 6]])\n",
        "\n",
        "# 배열을 1D로 평탄화\n",
        "flattened_array = array_2d.flatten()\n",
        "\n",
        "\n",
        "print(\"Original 2D Array:\")\n",
        "print(array_2d)\n",
        "print(\"\\nFlattened 1D Array:\")\n",
        "print(flattened_array)\n"
      ],
      "metadata": {
        "id": "ebj78SRkazzW",
        "colab": {
          "base_uri": "https://localhost:8080/"
        },
        "outputId": "5935eb7d-d65a-48d6-be80-961ec17961fd"
      },
      "execution_count": null,
      "outputs": [
        {
          "output_type": "stream",
          "name": "stdout",
          "text": [
            "Original 2D Array:\n",
            "[[1 2 3]\n",
            " [4 5 6]]\n",
            "\n",
            "Flattened 1D Array:\n",
            "[1 2 3 4 5 6]\n"
          ]
        }
      ]
    },
    {
      "cell_type": "markdown",
      "source": [
        "indexing"
      ],
      "metadata": {
        "id": "x03YXg0Yf1XB"
      }
    },
    {
      "cell_type": "code",
      "source": [
        "import numpy as np\n",
        "\n",
        "# 1D 배열\n",
        "array_1d = np.array([10, 20, 30, 40, 50])\n",
        "print(\"1D 배열에서 3번째 요소:\", array_1d[2])  # 출력: 30\n",
        "\n",
        "# 2D 배열\n",
        "array_2d = np.array([[1, 2, 3], [4, 5, 6], [7, 8, 9]])\n",
        "print(\"2D 배열에서 (2, 3) 요소:\", array_2d[1, 2])  # 출력: 6\n"
      ],
      "metadata": {
        "id": "eceivM4DfJ_E",
        "colab": {
          "base_uri": "https://localhost:8080/"
        },
        "outputId": "d8a5cbba-8601-4e50-cfe5-4f78ad955790"
      },
      "execution_count": null,
      "outputs": [
        {
          "output_type": "stream",
          "name": "stdout",
          "text": [
            "1D 배열에서 3번째 요소: 30\n",
            "2D 배열에서 (2, 3) 요소: 6\n"
          ]
        }
      ]
    },
    {
      "cell_type": "code",
      "source": [
        "array_2d[1,2] = 60\n",
        "print(array_2d[1,2])"
      ],
      "metadata": {
        "colab": {
          "base_uri": "https://localhost:8080/"
        },
        "id": "5mYco8bohRYG",
        "outputId": "e81edb26-e4e2-43b4-e684-76eb95eea045"
      },
      "execution_count": null,
      "outputs": [
        {
          "output_type": "stream",
          "name": "stdout",
          "text": [
            "60\n"
          ]
        }
      ]
    },
    {
      "cell_type": "markdown",
      "source": [
        "Slicing"
      ],
      "metadata": {
        "id": "Fi50eQCefsva"
      }
    },
    {
      "cell_type": "code",
      "source": [
        "import numpy as np\n",
        "\n",
        "# 1D 배열\n",
        "array_1d = np.array([10, 20, 30, 40, 50])\n",
        "print(\"1D 배열에서 2번째 요소부터 4번째 요소까지:\", array_1d[1:4]) # 출력: [20 30 40]\n",
        "\n",
        "array_1d[1:4] = [40, 30, 20]\n",
        "print(array_1d[1:4])\n",
        "\n",
        "# 2D 배열\n",
        "array_2d = np.array([[1, 2, 3], [4, 5, 6], [7, 8, 9]])\n",
        "print(\"2D 배열에서 2번째 행부터 끝까지, 2번째 열만 선택:\")\n",
        "print(array_2d[1:, 1])   # 출력: [5 8]\n",
        "\n",
        "# 2D 배열에서 특정 영역 추출\n",
        "print(\"2D 배열에서 1~2번째 행, 2~3번째 열:\")\n",
        "print(array_2d[0:2, 1:3]) # 출력: [[2 3]\n",
        "                          #       [5 6]]"
      ],
      "metadata": {
        "id": "2XcKVp1QfOh7",
        "colab": {
          "base_uri": "https://localhost:8080/"
        },
        "outputId": "0f984c5d-725d-46da-fb80-8530fe039e0f"
      },
      "execution_count": null,
      "outputs": [
        {
          "output_type": "stream",
          "name": "stdout",
          "text": [
            "1D 배열에서 2번째 요소부터 4번째 요소까지: [20 30 40]\n",
            "[40 30 20]\n",
            "2D 배열에서 2번째 행부터 끝까지, 2번째 열만 선택:\n",
            "[5 8]\n",
            "2D 배열에서 1~2번째 행, 2~3번째 열:\n",
            "[[2 3]\n",
            " [5 6]]\n"
          ]
        }
      ]
    },
    {
      "cell_type": "markdown",
      "source": [
        "Conditional **Filtering**"
      ],
      "metadata": {
        "id": "3t9yyRn5fcxE"
      }
    },
    {
      "cell_type": "code",
      "source": [
        "import numpy as np\n",
        "\n",
        "# 1D NumPy 배열 생성\n",
        "array = np.array([1, 2, 3, 4, 5, 6, 7, 8, 9])\n",
        "# 조건 필터링: 5보다 큰 요소 선택\n",
        "condition = array > 5\n",
        "filtered_array = array[array > 5]\n",
        "\n",
        "print(\"5보다 큰 값:\", filtered_array)\n",
        "print(condition)\n"
      ],
      "metadata": {
        "id": "cwDusHwBfRUN",
        "colab": {
          "base_uri": "https://localhost:8080/"
        },
        "outputId": "67cca13e-3462-4354-d9ae-1928d02c13b6"
      },
      "execution_count": null,
      "outputs": [
        {
          "output_type": "stream",
          "name": "stdout",
          "text": [
            "5보다 큰 값: [6 7 8 9]\n",
            "[False False False False False  True  True  True  True]\n"
          ]
        }
      ]
    },
    {
      "cell_type": "code",
      "source": [
        "import numpy as np\n",
        "\n",
        "# 2D NumPy 배열 생성\n",
        "array_2d = np.array([[1, 2, 3], [4, 5, 6], [7, 8, 9]])\n",
        "\n",
        "# 조건 필터링: 배열에서 짝수 요소들만 선택\n",
        "condition = array_2d % 2 == 0\n",
        "filtered_array_2d = array_2d[condition]\n",
        "print(\"조건에 맞는 요소들 (짝수):\", filtered_array_2d)\n"
      ],
      "metadata": {
        "id": "09QcgP8GfWen",
        "colab": {
          "base_uri": "https://localhost:8080/"
        },
        "outputId": "976fedc6-cc77-47df-c3c4-28efe4bb0882"
      },
      "execution_count": null,
      "outputs": [
        {
          "output_type": "stream",
          "name": "stdout",
          "text": [
            "조건에 맞는 요소들 (짝수): [2 4 6 8]\n"
          ]
        }
      ]
    },
    {
      "cell_type": "code",
      "source": [
        "# 다중 조건 필터링\n",
        "import numpy as np\n",
        "\n",
        "# 1D NumPy 배열 생성\n",
        "array = np.array([1, 2, 3, 4, 5, 6, 7, 8, 9])\n",
        "\n",
        "# 조건 필터링: 배열에서 3보다 크고 8보다 작은 요소들만 선택\n",
        "condition = (array > 3) & (array < 8)\n",
        "filtered_array = array[condition]\n",
        "print(\"조건에 맞는 요소들 (3보다 크고 8보다 작은):\", filtered_array)"
      ],
      "metadata": {
        "id": "LqJImGU-fZ6W",
        "colab": {
          "base_uri": "https://localhost:8080/"
        },
        "outputId": "61ef00ce-c966-4479-ea96-e7b4c0ddd01f"
      },
      "execution_count": null,
      "outputs": [
        {
          "output_type": "stream",
          "name": "stdout",
          "text": [
            "조건에 맞는 요소들 (3보다 크고 8보다 작은): [4 5 6 7]\n"
          ]
        }
      ]
    },
    {
      "cell_type": "code",
      "source": [
        "import numpy as np\n",
        "\n",
        "array1 = np.array([[2, 2], [2, 2]])\n",
        "array2 = np.arange(4).reshape(2, 2)\n",
        "\n",
        "print(array1)\n",
        "\n",
        "print(array2)\n",
        "\n",
        "mul = array1 * array2\n",
        "\n",
        "print(mul.flatten())"
      ],
      "metadata": {
        "colab": {
          "base_uri": "https://localhost:8080/"
        },
        "id": "UBqsjiJWp96O",
        "outputId": "eb617f2b-a1e0-4455-a3ab-f3d7c5565182"
      },
      "execution_count": null,
      "outputs": [
        {
          "output_type": "stream",
          "name": "stdout",
          "text": [
            "[[2 2]\n",
            " [2 2]]\n",
            "[[0 1]\n",
            " [2 3]]\n",
            "[0 2 4 6]\n"
          ]
        }
      ]
    },
    {
      "cell_type": "code",
      "source": [],
      "metadata": {
        "id": "6nyvkm_vp-Wv"
      },
      "execution_count": null,
      "outputs": []
    }
  ]
}